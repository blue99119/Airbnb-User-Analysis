{
  "nbformat": 4,
  "nbformat_minor": 0,
  "metadata": {
    "colab": {
      "provenance": []
    },
    "kernelspec": {
      "name": "python3",
      "display_name": "Python 3"
    },
    "language_info": {
      "name": "python"
    }
  },
  "cells": [
    {
      "cell_type": "code",
      "source": [
        "import numpy as np\n",
        "import pandas as pd\n",
        "from sklearn.preprocessing import LabelEncoder\n",
        "from xgboost.sklearn import XGBClassifier\n",
        "\n",
        "np.random.seed(0)"
      ],
      "metadata": {
        "id": "J3u4ew1QBGvb"
      },
      "execution_count": 2,
      "outputs": []
    },
    {
      "cell_type": "code",
      "source": [
        "df_all_combined = pd.read_csv('df_all_combined.csv')\n",
        "df_train = pd.read_csv('df_all_combined_train.csv')\n",
        "df_test = pd.read_csv('df_all_combined_test.csv')\n",
        "id_test = df_test['id']"
      ],
      "metadata": {
        "colab": {
          "base_uri": "https://localhost:8080/"
        },
        "id": "4mKS4jzf8FOG",
        "outputId": "aae6a9ff-0c23-4309-cc1b-e7ebbd1b6197"
      },
      "execution_count": 31,
      "outputs": [
        {
          "output_type": "stream",
          "name": "stderr",
          "text": [
            "<ipython-input-31-b8af859a37fd>:1: DtypeWarning: Columns (4) have mixed types. Specify dtype option on import or set low_memory=False.\n",
            "  df_all_combined = pd.read_csv('df_all_combined.csv')\n"
          ]
        }
      ]
    },
    {
      "cell_type": "code",
      "source": [
        "columns_to_drop = ['date_account_created', 'timestamp_first_active', 'id']\n",
        "for column in columns_to_drop:\n",
        "    if column in df_train.columns:\n",
        "        df_train.drop(column, axis=1, inplace=True)"
      ],
      "metadata": {
        "id": "4plPwPO2P31D"
      },
      "execution_count": 32,
      "outputs": []
    },
    {
      "cell_type": "code",
      "source": [
        "testcolumns_to_drop = ['date_account_created', 'timestamp_first_active', 'country_destination', 'id']\n",
        "X_test = df_test\n",
        "for column in testcolumns_to_drop:\n",
        "    if column in X_test.columns:\n",
        "        X_test.drop(column, axis=1, inplace=True)"
      ],
      "metadata": {
        "id": "SVd1VDPQR1K-"
      },
      "execution_count": 33,
      "outputs": []
    },
    {
      "cell_type": "code",
      "source": [
        "labels = df_train['country_destination'].values\n",
        "le = LabelEncoder()\n",
        "y = le.fit_transform(labels) \n",
        "X = df_train.drop('country_destination', axis=1, inplace=False)\n",
        "\n",
        "#Classifier\n",
        "xgb = XGBClassifier(max_depth=6, learning_rate=0.3, n_estimators=25,\n",
        "                    objective='multi:softprob', subsample=0.5, colsample_bytree=0.5, seed=0)                  \n",
        "xgb.fit(X, y)\n",
        "y_pred = xgb.predict_proba(X_test)  \n",
        "\n",
        "#Taking the 5 classes with highest probabilities\n",
        "ids = []  #list of ids\n",
        "cts = []  #list of countries\n",
        "for i in range(len(id_test)):\n",
        "    idx = id_test[i]\n",
        "    ids += [idx] * 5\n",
        "    cts += le.inverse_transform(np.argsort(y_pred[i])[::-1])[:5].tolist()\n",
        "\n",
        "#Generate submission\n",
        "sub = pd.DataFrame(np.column_stack((ids, cts)), columns=['id', 'country'])\n",
        "sub.to_csv('../sub.csv',index=False)"
      ],
      "metadata": {
        "id": "yHGzakRCJTto"
      },
      "execution_count": 34,
      "outputs": []
    },
    {
      "cell_type": "code",
      "source": [
        "sub.shape"
      ],
      "metadata": {
        "colab": {
          "base_uri": "https://localhost:8080/"
        },
        "id": "_IlmyeuG-OT8",
        "outputId": "faab6bc2-4011-4eaa-eec5-a8032896a6bf"
      },
      "execution_count": 12,
      "outputs": [
        {
          "output_type": "execute_result",
          "data": {
            "text/plain": [
              "(310480, 2)"
            ]
          },
          "metadata": {},
          "execution_count": 12
        }
      ]
    },
    {
      "cell_type": "code",
      "source": [
        "sub.to_csv('../sub.csv',index=False)"
      ],
      "metadata": {
        "id": "9HXCHe6HCbp0"
      },
      "execution_count": 6,
      "outputs": []
    }
  ]
}